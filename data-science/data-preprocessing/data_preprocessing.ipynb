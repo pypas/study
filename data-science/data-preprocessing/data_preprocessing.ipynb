{
 "cells": [
  {
   "cell_type": "code",
   "execution_count": 2,
   "metadata": {
    "collapsed": true,
    "pycharm": {
     "is_executing": false
    }
   },
   "outputs": [],
   "source": [
    "import pandas as pd\n",
    "import numpy as np\n",
    "import matplotlib.pyplot as plt"
   ]
  },
  {
   "cell_type": "markdown",
   "source": [
    "Import data"
   ],
   "metadata": {
    "collapsed": false
   }
  },
  {
   "cell_type": "code",
   "execution_count": 28,
   "outputs": [],
   "source": [
    "dataset = pd.read_csv('Data.csv')"
   ],
   "metadata": {
    "collapsed": false,
    "pycharm": {
     "name": "#%%\n",
     "is_executing": false
    }
   }
  },
  {
   "cell_type": "markdown",
   "source": [
    "Creates a matrix X of features (independent variables) by taking all rows and all columns except the last one\n",
    "Creates the array Y of dependent variables."
   ],
   "metadata": {
    "collapsed": false,
    "pycharm": {
     "name": "#%% md\n"
    }
   }
  },
  {
   "cell_type": "code",
   "execution_count": 29,
   "outputs": [],
   "source": [
    "X = dataset.iloc[:,:-1].values \n",
    "y = dataset.iloc[:,3].values"
   ],
   "metadata": {
    "collapsed": false,
    "pycharm": {
     "name": "#%%\n",
     "is_executing": false
    }
   }
  },
  {
   "cell_type": "markdown",
   "source": [
    "Taking care of missing data.\n",
    "Imputer is going to replace empty values with the mean of all rows for that column."
   ],
   "metadata": {
    "collapsed": false,
    "pycharm": {
     "name": "#%% md\n"
    }
   }
  },
  {
   "cell_type": "code",
   "execution_count": 30,
   "outputs": [],
   "source": [
    "from sklearn.impute import SimpleImputer\n",
    "imputer = SimpleImputer(missing_values=np.nan, strategy='mean')\n",
    "imputer = imputer.fit(X[:, 1:3])\n",
    "X[:,1:3] = imputer.transform(X[:,1:3])"
   ],
   "metadata": {
    "collapsed": false,
    "pycharm": {
     "name": "#%%\n",
     "is_executing": false
    }
   }
  },
  {
   "cell_type": "markdown",
   "source": [
    "Encoding categorical Data.\n",
    "- Problem: there are no orders between these values (France is not greater or smaller than Spain)\n",
    "- Solution: Dummy Encoding (OneHot)\n",
    "*OBS: By specifying remainder='passthrough', all remaining columns that were not specified in transformers will be automatically passed through. "
   ],
   "metadata": {
    "collapsed": false,
    "pycharm": {
     "name": "#%% md\n"
    }
   }
  },
  {
   "cell_type": "code",
   "execution_count": 31,
   "outputs": [],
   "source": [
    "from sklearn.preprocessing import LabelEncoder, OneHotEncoder\n",
    "from sklearn.compose import ColumnTransformer \n",
    "\n",
    "labelenconder_X = LabelEncoder()\n",
    "X[:,0] = labelenconder_X.fit_transform(X[:,0])\n",
    "onehotenconder = ColumnTransformer([(\"encoder\", OneHotEncoder(), [0])], remainder=\"passthrough\")\n",
    "X = onehotenconder.fit_transform(X) \n",
    "labelenconder_y = LabelEncoder()\n",
    "y = labelenconder_y.fit_transform(y)"
   ],
   "metadata": {
    "collapsed": false,
    "pycharm": {
     "name": "#%%\n",
     "is_executing": false
    }
   }
  },
  {
   "cell_type": "markdown",
   "source": [
    "Splitting dataset into training set and test set\n",
    "Usually test_size = 20%"
   ],
   "metadata": {
    "collapsed": false,
    "pycharm": {
     "name": "#%% md\n"
    }
   }
  },
  {
   "cell_type": "code",
   "execution_count": 37,
   "outputs": [
    {
     "data": {
      "text/plain": "array([[0.0, 1.0, 0.0, 40.0, 63777.77777777778],\n       [1.0, 0.0, 0.0, 37.0, 67000.0],\n       [0.0, 0.0, 1.0, 27.0, 48000.0],\n       [0.0, 0.0, 1.0, 38.77777777777778, 52000.0],\n       [1.0, 0.0, 0.0, 48.0, 79000.0],\n       [0.0, 0.0, 1.0, 38.0, 61000.0],\n       [1.0, 0.0, 0.0, 44.0, 72000.0],\n       [1.0, 0.0, 0.0, 35.0, 58000.0]], dtype=object)"
     },
     "metadata": {},
     "output_type": "execute_result",
     "execution_count": 37
    }
   ],
   "source": [
    "from sklearn.model_selection import train_test_split\n",
    "X_train, X_test, y_train, y_test = train_test_split(X,y,test_size=0.2,random_state=0)"
   ],
   "metadata": {
    "collapsed": false,
    "pycharm": {
     "name": "#%%\n",
     "is_executing": false
    }
   }
  },
  {
   "cell_type": "markdown",
   "source": [
    "Feature scaling\n",
    "- Problem: the range of each column is different, and ML models are based on Euclidean Distance\n",
    "- Solution: \n",
    " - Standardisation: Xstand = (x - mean(x))/(std(x))\n",
    " - Normalisation: Xnorm = (x-min(x))/(max(x)-min(x))\n",
    "*OBS: For X_test, we don't need to fit the sc_X object to the test set, because it is already fitted to the training set\n",
    "QUESTION: Do we need to fit the dummy variables? Depends\n",
    "QUESTION: Do we need to feature scale for Y? No, because it's a classification problem with categories"
   ],
   "metadata": {
    "collapsed": false,
    "pycharm": {
     "name": "#%% md\n"
    }
   }
  },
  {
   "cell_type": "code",
   "execution_count": 39,
   "outputs": [
    {
     "data": {
      "text/plain": "array([[-1.        ,  2.64575131, -0.77459667,  0.26306757,  0.12381479],\n       [ 1.        , -0.37796447, -0.77459667, -0.25350148,  0.46175632],\n       [-1.        , -0.37796447,  1.29099445, -1.97539832, -1.53093341],\n       [-1.        , -0.37796447,  1.29099445,  0.05261351, -1.11141978],\n       [ 1.        , -0.37796447, -0.77459667,  1.64058505,  1.7202972 ],\n       [-1.        , -0.37796447,  1.29099445, -0.0813118 , -0.16751412],\n       [ 1.        , -0.37796447, -0.77459667,  0.95182631,  0.98614835],\n       [ 1.        , -0.37796447, -0.77459667, -0.59788085, -0.48214934]])"
     },
     "metadata": {},
     "output_type": "execute_result",
     "execution_count": 39
    }
   ],
   "source": [
    "from sklearn.preprocessing import StandardScaler\n",
    "sc_X = StandardScaler()\n",
    "X_train = sc_X.fit_transform(X_train)\n",
    "X_test = sc_X.transform(X_test)"
   ],
   "metadata": {
    "collapsed": false,
    "pycharm": {
     "name": "#%%\n",
     "is_executing": false
    }
   }
  }
 ],
 "metadata": {
  "kernelspec": {
   "display_name": "Python 3",
   "language": "python",
   "name": "python3"
  },
  "language_info": {
   "codemirror_mode": {
    "name": "ipython",
    "version": 2
   },
   "file_extension": ".py",
   "mimetype": "text/x-python",
   "name": "python",
   "nbconvert_exporter": "python",
   "pygments_lexer": "ipython2",
   "version": "2.7.6"
  },
  "pycharm": {
   "stem_cell": {
    "cell_type": "raw",
    "source": [],
    "metadata": {
     "collapsed": false
    }
   }
  }
 },
 "nbformat": 4,
 "nbformat_minor": 0
}